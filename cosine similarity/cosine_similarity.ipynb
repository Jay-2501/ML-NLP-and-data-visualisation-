{
 "cells": [
  {
   "cell_type": "code",
   "execution_count": 22,
   "metadata": {},
   "outputs": [],
   "source": [
    "import string"
   ]
  },
  {
   "cell_type": "code",
   "execution_count": 23,
   "metadata": {},
   "outputs": [],
   "source": [
    "def read_file(filename):  \n",
    "      \n",
    "    try: \n",
    "        with open(filename, 'r') as f: \n",
    "            data = f.read() \n",
    "        return data \n",
    "    except IOError: \n",
    "        print(\"Error opening or reading input file: \", filename) \n",
    "        sys.exit()\n",
    "    "
   ]
  },
  {
   "cell_type": "code",
   "execution_count": 24,
   "metadata": {},
   "outputs": [],
   "source": [
    "\n",
    "translation_table = str.maketrans(string.punctuation+string.ascii_uppercase, \n",
    "                                     \" \"*len(string.punctuation)+string.ascii_lowercase) \n",
    "       \n"
   ]
  },
  {
   "cell_type": "code",
   "execution_count": 25,
   "metadata": {},
   "outputs": [],
   "source": [
    "def calculate_frequency(word_list):  \n",
    "    vector = {} \n",
    "      \n",
    "    for word in word_list: \n",
    "          \n",
    "        if word in vector: \n",
    "            vector[word] += 1\n",
    "              \n",
    "        else: \n",
    "            vector[word] = 1\n",
    "              \n",
    "    return vector"
   ]
  },
  {
   "cell_type": "code",
   "execution_count": 26,
   "metadata": {},
   "outputs": [],
   "source": [
    "def word_frequencies(filename):  \n",
    "      \n",
    "    line_list = read_file(filename) \n",
    "    word_list = line_list.translate(translation_table).split() \n",
    "      \n",
    "    return calculate_frequency(word_list)  "
   ]
  },
  {
   "cell_type": "code",
   "execution_count": 27,
   "metadata": {},
   "outputs": [],
   "source": [
    "def dot_product(vector1, vector2):  \n",
    "    Sum = 0.0\n",
    "      \n",
    "    for key in vector1: \n",
    "        if key in vector2: \n",
    "            Sum += (vector1[key] * vector2[key]) \n",
    "              \n",
    "    return Sum"
   ]
  },
  {
   "cell_type": "code",
   "execution_count": 28,
   "metadata": {},
   "outputs": [],
   "source": [
    "def cos(vector1, vector2):    \n",
    "    adotb = dot_product(vector1, vector2)\n",
    "    modab = (dot_product(vector1, vector1)*dot_product(vector2, vector2))**0.5                   \n",
    "      \n",
    "    return adotb / modab"
   ]
  },
  {
   "cell_type": "code",
   "execution_count": 29,
   "metadata": {},
   "outputs": [],
   "source": [
    "def SimilarityScore(file1, file2): \n",
    "      \n",
    "    file1_vector = word_frequencies(file1) \n",
    "    file2_vector = word_frequencies(file2) \n",
    "    similarity = cos(file1_vector, file2_vector) \n",
    "      \n",
    "    print(\"The cosine similarity of the given documents is: % 0.4f \"% similarity) "
   ]
  },
  {
   "cell_type": "code",
   "execution_count": 30,
   "metadata": {},
   "outputs": [
    {
     "name": "stdout",
     "output_type": "stream",
     "text": [
      "The cosine similarity of the given documents is:  0.7185 \n"
     ]
    }
   ],
   "source": [
    "SimilarityScore('sample1.txt', 'sample2.txt') \n"
   ]
  },
  {
   "cell_type": "code",
   "execution_count": null,
   "metadata": {},
   "outputs": [],
   "source": []
  }
 ],
 "metadata": {
  "kernelspec": {
   "display_name": "Python 3",
   "language": "python",
   "name": "python3"
  },
  "language_info": {
   "codemirror_mode": {
    "name": "ipython",
    "version": 3
   },
   "file_extension": ".py",
   "mimetype": "text/x-python",
   "name": "python",
   "nbconvert_exporter": "python",
   "pygments_lexer": "ipython3",
   "version": "3.8.3"
  }
 },
 "nbformat": 4,
 "nbformat_minor": 4
}
