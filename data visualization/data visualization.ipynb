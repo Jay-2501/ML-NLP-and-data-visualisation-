{
 "cells": [
  {
   "cell_type": "code",
   "execution_count": 34,
   "metadata": {},
   "outputs": [],
   "source": [
    "import pandas as pd\n",
    "import numpy as np\n",
    "import requests as rs\n",
    "import json as js\n",
    "import matplotlib.pyplot as plt\n",
    "%matplotlib inline"
   ]
  },
  {
   "cell_type": "code",
   "execution_count": 35,
   "metadata": {},
   "outputs": [],
   "source": [
    "response=rs.get(\"https://raw.githubusercontent.com/theand9/data-viz-challenge/master/data.json\")\n",
    "job=js.loads(response.text)"
   ]
  },
  {
   "cell_type": "code",
   "execution_count": 36,
   "metadata": {},
   "outputs": [],
   "source": [
    "job=js.dumps(job['data'])"
   ]
  },
  {
   "cell_type": "code",
   "execution_count": 37,
   "metadata": {},
   "outputs": [],
   "source": [
    "df=pd.read_json(job)"
   ]
  },
  {
   "cell_type": "code",
   "execution_count": 38,
   "metadata": {},
   "outputs": [
    {
     "data": {
      "text/html": [
       "<div>\n",
       "<style scoped>\n",
       "    .dataframe tbody tr th:only-of-type {\n",
       "        vertical-align: middle;\n",
       "    }\n",
       "\n",
       "    .dataframe tbody tr th {\n",
       "        vertical-align: top;\n",
       "    }\n",
       "\n",
       "    .dataframe thead th {\n",
       "        text-align: right;\n",
       "    }\n",
       "</style>\n",
       "<table border=\"1\" class=\"dataframe\">\n",
       "  <thead>\n",
       "    <tr style=\"text-align: right;\">\n",
       "      <th></th>\n",
       "      <th>category</th>\n",
       "      <th>event_name</th>\n",
       "      <th>gender</th>\n",
       "      <th>age</th>\n",
       "      <th>marital_status</th>\n",
       "      <th>session_id</th>\n",
       "      <th>device</th>\n",
       "      <th>client_time</th>\n",
       "      <th>location</th>\n",
       "      <th>amount</th>\n",
       "    </tr>\n",
       "  </thead>\n",
       "  <tbody>\n",
       "    <tr>\n",
       "      <th>0</th>\n",
       "      <td>Sports</td>\n",
       "      <td>View Project</td>\n",
       "      <td>M</td>\n",
       "      <td>18-24</td>\n",
       "      <td>married</td>\n",
       "      <td>69f62d2ae87640f5a2dde2b2e9229fe6</td>\n",
       "      <td>android</td>\n",
       "      <td>2014-03-01 00:00:04</td>\n",
       "      <td>{'latitude': 40.189788, 'city': 'Lyons', 'stat...</td>\n",
       "      <td>NaN</td>\n",
       "    </tr>\n",
       "    <tr>\n",
       "      <th>1</th>\n",
       "      <td>Technology</td>\n",
       "      <td>View Project</td>\n",
       "      <td>M</td>\n",
       "      <td>18-24</td>\n",
       "      <td>single</td>\n",
       "      <td>4459d001feb8438eae5f4ec24abcd992</td>\n",
       "      <td>iOS</td>\n",
       "      <td>2014-03-01 00:00:22</td>\n",
       "      <td>{'latitude': 33.844371, 'city': 'Alpharetta', ...</td>\n",
       "      <td>NaN</td>\n",
       "    </tr>\n",
       "    <tr>\n",
       "      <th>2</th>\n",
       "      <td>Environment</td>\n",
       "      <td>View Project</td>\n",
       "      <td>M</td>\n",
       "      <td>55+</td>\n",
       "      <td>single</td>\n",
       "      <td>0db9ed700a184d48a9d04806696e3642</td>\n",
       "      <td>iOS</td>\n",
       "      <td>2014-03-01 00:00:32</td>\n",
       "      <td>{'latitude': 42.446396, 'city': 'Westford', 's...</td>\n",
       "      <td>NaN</td>\n",
       "    </tr>\n",
       "    <tr>\n",
       "      <th>3</th>\n",
       "      <td>Technology</td>\n",
       "      <td>View Project</td>\n",
       "      <td>M</td>\n",
       "      <td>18-24</td>\n",
       "      <td>single</td>\n",
       "      <td>68195e2372bd4022b17220fc21de9138</td>\n",
       "      <td>android</td>\n",
       "      <td>2014-03-01 00:00:38</td>\n",
       "      <td>{'latitude': 44.624413, 'city': 'Saranac', 'st...</td>\n",
       "      <td>NaN</td>\n",
       "    </tr>\n",
       "    <tr>\n",
       "      <th>4</th>\n",
       "      <td>Sports</td>\n",
       "      <td>View Project</td>\n",
       "      <td>F</td>\n",
       "      <td>25-34</td>\n",
       "      <td>married</td>\n",
       "      <td>9508a8385dc94773baba8aa7d1c2aa75</td>\n",
       "      <td>iOS</td>\n",
       "      <td>2014-03-01 00:00:51</td>\n",
       "      <td>{'latitude': 36.747083, 'city': 'Lampe', 'stat...</td>\n",
       "      <td>NaN</td>\n",
       "    </tr>\n",
       "  </tbody>\n",
       "</table>\n",
       "</div>"
      ],
      "text/plain": [
       "      category    event_name gender    age marital_status  \\\n",
       "0       Sports  View Project      M  18-24        married   \n",
       "1   Technology  View Project      M  18-24         single   \n",
       "2  Environment  View Project      M    55+         single   \n",
       "3   Technology  View Project      M  18-24         single   \n",
       "4       Sports  View Project      F  25-34        married   \n",
       "\n",
       "                         session_id   device         client_time  \\\n",
       "0  69f62d2ae87640f5a2dde2b2e9229fe6  android 2014-03-01 00:00:04   \n",
       "1  4459d001feb8438eae5f4ec24abcd992      iOS 2014-03-01 00:00:22   \n",
       "2  0db9ed700a184d48a9d04806696e3642      iOS 2014-03-01 00:00:32   \n",
       "3  68195e2372bd4022b17220fc21de9138  android 2014-03-01 00:00:38   \n",
       "4  9508a8385dc94773baba8aa7d1c2aa75      iOS 2014-03-01 00:00:51   \n",
       "\n",
       "                                            location  amount  \n",
       "0  {'latitude': 40.189788, 'city': 'Lyons', 'stat...     NaN  \n",
       "1  {'latitude': 33.844371, 'city': 'Alpharetta', ...     NaN  \n",
       "2  {'latitude': 42.446396, 'city': 'Westford', 's...     NaN  \n",
       "3  {'latitude': 44.624413, 'city': 'Saranac', 'st...     NaN  \n",
       "4  {'latitude': 36.747083, 'city': 'Lampe', 'stat...     NaN  "
      ]
     },
     "execution_count": 38,
     "metadata": {},
     "output_type": "execute_result"
    }
   ],
   "source": [
    "df.head()"
   ]
  },
  {
   "cell_type": "code",
   "execution_count": 39,
   "metadata": {},
   "outputs": [
    {
     "data": {
      "text/html": [
       "<div>\n",
       "<style scoped>\n",
       "    .dataframe tbody tr th:only-of-type {\n",
       "        vertical-align: middle;\n",
       "    }\n",
       "\n",
       "    .dataframe tbody tr th {\n",
       "        vertical-align: top;\n",
       "    }\n",
       "\n",
       "    .dataframe thead th {\n",
       "        text-align: right;\n",
       "    }\n",
       "</style>\n",
       "<table border=\"1\" class=\"dataframe\">\n",
       "  <thead>\n",
       "    <tr style=\"text-align: right;\">\n",
       "      <th></th>\n",
       "      <th>latitude</th>\n",
       "      <th>city</th>\n",
       "      <th>state</th>\n",
       "      <th>longitude</th>\n",
       "      <th>zip_code</th>\n",
       "    </tr>\n",
       "  </thead>\n",
       "  <tbody>\n",
       "    <tr>\n",
       "      <th>0</th>\n",
       "      <td>40.189788</td>\n",
       "      <td>Lyons</td>\n",
       "      <td>CO</td>\n",
       "      <td>-105.355280</td>\n",
       "      <td>80540</td>\n",
       "    </tr>\n",
       "    <tr>\n",
       "      <th>1</th>\n",
       "      <td>33.844371</td>\n",
       "      <td>Alpharetta</td>\n",
       "      <td>GA</td>\n",
       "      <td>-84.474050</td>\n",
       "      <td>30009</td>\n",
       "    </tr>\n",
       "    <tr>\n",
       "      <th>2</th>\n",
       "      <td>42.446396</td>\n",
       "      <td>Westford</td>\n",
       "      <td>MA</td>\n",
       "      <td>-71.459405</td>\n",
       "      <td>01886</td>\n",
       "    </tr>\n",
       "    <tr>\n",
       "      <th>3</th>\n",
       "      <td>44.624413</td>\n",
       "      <td>Saranac</td>\n",
       "      <td>NY</td>\n",
       "      <td>-73.809266</td>\n",
       "      <td>12981</td>\n",
       "    </tr>\n",
       "    <tr>\n",
       "      <th>4</th>\n",
       "      <td>36.747083</td>\n",
       "      <td>Lampe</td>\n",
       "      <td>MO</td>\n",
       "      <td>-93.458626</td>\n",
       "      <td>65681</td>\n",
       "    </tr>\n",
       "    <tr>\n",
       "      <th>...</th>\n",
       "      <td>...</td>\n",
       "      <td>...</td>\n",
       "      <td>...</td>\n",
       "      <td>...</td>\n",
       "      <td>...</td>\n",
       "    </tr>\n",
       "    <tr>\n",
       "      <th>49995</th>\n",
       "      <td>45.343615</td>\n",
       "      <td>West Linn</td>\n",
       "      <td>OR</td>\n",
       "      <td>-122.664926</td>\n",
       "      <td>97068</td>\n",
       "    </tr>\n",
       "    <tr>\n",
       "      <th>49996</th>\n",
       "      <td>41.079983</td>\n",
       "      <td>Greenwich</td>\n",
       "      <td>CT</td>\n",
       "      <td>-73.654472</td>\n",
       "      <td>06831</td>\n",
       "    </tr>\n",
       "    <tr>\n",
       "      <th>49997</th>\n",
       "      <td>40.365020</td>\n",
       "      <td>Irwin</td>\n",
       "      <td>PA</td>\n",
       "      <td>-79.584060</td>\n",
       "      <td>15642</td>\n",
       "    </tr>\n",
       "    <tr>\n",
       "      <th>49998</th>\n",
       "      <td>39.477625</td>\n",
       "      <td>Martinsville</td>\n",
       "      <td>IN</td>\n",
       "      <td>-86.466792</td>\n",
       "      <td>46151</td>\n",
       "    </tr>\n",
       "    <tr>\n",
       "      <th>49999</th>\n",
       "      <td>45.408374</td>\n",
       "      <td>Lake Oswego</td>\n",
       "      <td>OR</td>\n",
       "      <td>-122.691388</td>\n",
       "      <td>97034</td>\n",
       "    </tr>\n",
       "  </tbody>\n",
       "</table>\n",
       "<p>50000 rows × 5 columns</p>\n",
       "</div>"
      ],
      "text/plain": [
       "        latitude          city state   longitude zip_code\n",
       "0      40.189788         Lyons    CO -105.355280    80540\n",
       "1      33.844371    Alpharetta    GA  -84.474050    30009\n",
       "2      42.446396      Westford    MA  -71.459405    01886\n",
       "3      44.624413       Saranac    NY  -73.809266    12981\n",
       "4      36.747083         Lampe    MO  -93.458626    65681\n",
       "...          ...           ...   ...         ...      ...\n",
       "49995  45.343615     West Linn    OR -122.664926    97068\n",
       "49996  41.079983     Greenwich    CT  -73.654472    06831\n",
       "49997  40.365020         Irwin    PA  -79.584060    15642\n",
       "49998  39.477625  Martinsville    IN  -86.466792    46151\n",
       "49999  45.408374   Lake Oswego    OR -122.691388    97034\n",
       "\n",
       "[50000 rows x 5 columns]"
      ]
     },
     "execution_count": 39,
     "metadata": {},
     "output_type": "execute_result"
    }
   ],
   "source": [
    "lc=pd.json_normalize(df['location'])\n",
    "lc"
   ]
  },
  {
   "cell_type": "code",
   "execution_count": 40,
   "metadata": {},
   "outputs": [
    {
     "data": {
      "text/html": [
       "<div>\n",
       "<style scoped>\n",
       "    .dataframe tbody tr th:only-of-type {\n",
       "        vertical-align: middle;\n",
       "    }\n",
       "\n",
       "    .dataframe tbody tr th {\n",
       "        vertical-align: top;\n",
       "    }\n",
       "\n",
       "    .dataframe thead th {\n",
       "        text-align: right;\n",
       "    }\n",
       "</style>\n",
       "<table border=\"1\" class=\"dataframe\">\n",
       "  <thead>\n",
       "    <tr style=\"text-align: right;\">\n",
       "      <th></th>\n",
       "      <th>category</th>\n",
       "      <th>event_name</th>\n",
       "      <th>gender</th>\n",
       "      <th>age</th>\n",
       "      <th>marital_status</th>\n",
       "      <th>session_id</th>\n",
       "      <th>device</th>\n",
       "      <th>client_time</th>\n",
       "      <th>amount</th>\n",
       "      <th>latitude</th>\n",
       "      <th>city</th>\n",
       "      <th>state</th>\n",
       "      <th>longitude</th>\n",
       "      <th>zip_code</th>\n",
       "    </tr>\n",
       "  </thead>\n",
       "  <tbody>\n",
       "    <tr>\n",
       "      <th>0</th>\n",
       "      <td>Sports</td>\n",
       "      <td>View Project</td>\n",
       "      <td>M</td>\n",
       "      <td>18-24</td>\n",
       "      <td>married</td>\n",
       "      <td>69f62d2ae87640f5a2dde2b2e9229fe6</td>\n",
       "      <td>android</td>\n",
       "      <td>2014-03-01 00:00:04</td>\n",
       "      <td>NaN</td>\n",
       "      <td>40.189788</td>\n",
       "      <td>Lyons</td>\n",
       "      <td>CO</td>\n",
       "      <td>-105.355280</td>\n",
       "      <td>80540</td>\n",
       "    </tr>\n",
       "    <tr>\n",
       "      <th>1</th>\n",
       "      <td>Technology</td>\n",
       "      <td>View Project</td>\n",
       "      <td>M</td>\n",
       "      <td>18-24</td>\n",
       "      <td>single</td>\n",
       "      <td>4459d001feb8438eae5f4ec24abcd992</td>\n",
       "      <td>iOS</td>\n",
       "      <td>2014-03-01 00:00:22</td>\n",
       "      <td>NaN</td>\n",
       "      <td>33.844371</td>\n",
       "      <td>Alpharetta</td>\n",
       "      <td>GA</td>\n",
       "      <td>-84.474050</td>\n",
       "      <td>30009</td>\n",
       "    </tr>\n",
       "    <tr>\n",
       "      <th>2</th>\n",
       "      <td>Environment</td>\n",
       "      <td>View Project</td>\n",
       "      <td>M</td>\n",
       "      <td>55+</td>\n",
       "      <td>single</td>\n",
       "      <td>0db9ed700a184d48a9d04806696e3642</td>\n",
       "      <td>iOS</td>\n",
       "      <td>2014-03-01 00:00:32</td>\n",
       "      <td>NaN</td>\n",
       "      <td>42.446396</td>\n",
       "      <td>Westford</td>\n",
       "      <td>MA</td>\n",
       "      <td>-71.459405</td>\n",
       "      <td>01886</td>\n",
       "    </tr>\n",
       "    <tr>\n",
       "      <th>3</th>\n",
       "      <td>Technology</td>\n",
       "      <td>View Project</td>\n",
       "      <td>M</td>\n",
       "      <td>18-24</td>\n",
       "      <td>single</td>\n",
       "      <td>68195e2372bd4022b17220fc21de9138</td>\n",
       "      <td>android</td>\n",
       "      <td>2014-03-01 00:00:38</td>\n",
       "      <td>NaN</td>\n",
       "      <td>44.624413</td>\n",
       "      <td>Saranac</td>\n",
       "      <td>NY</td>\n",
       "      <td>-73.809266</td>\n",
       "      <td>12981</td>\n",
       "    </tr>\n",
       "    <tr>\n",
       "      <th>4</th>\n",
       "      <td>Sports</td>\n",
       "      <td>View Project</td>\n",
       "      <td>F</td>\n",
       "      <td>25-34</td>\n",
       "      <td>married</td>\n",
       "      <td>9508a8385dc94773baba8aa7d1c2aa75</td>\n",
       "      <td>iOS</td>\n",
       "      <td>2014-03-01 00:00:51</td>\n",
       "      <td>NaN</td>\n",
       "      <td>36.747083</td>\n",
       "      <td>Lampe</td>\n",
       "      <td>MO</td>\n",
       "      <td>-93.458626</td>\n",
       "      <td>65681</td>\n",
       "    </tr>\n",
       "  </tbody>\n",
       "</table>\n",
       "</div>"
      ],
      "text/plain": [
       "      category    event_name gender    age marital_status  \\\n",
       "0       Sports  View Project      M  18-24        married   \n",
       "1   Technology  View Project      M  18-24         single   \n",
       "2  Environment  View Project      M    55+         single   \n",
       "3   Technology  View Project      M  18-24         single   \n",
       "4       Sports  View Project      F  25-34        married   \n",
       "\n",
       "                         session_id   device         client_time  amount  \\\n",
       "0  69f62d2ae87640f5a2dde2b2e9229fe6  android 2014-03-01 00:00:04     NaN   \n",
       "1  4459d001feb8438eae5f4ec24abcd992      iOS 2014-03-01 00:00:22     NaN   \n",
       "2  0db9ed700a184d48a9d04806696e3642      iOS 2014-03-01 00:00:32     NaN   \n",
       "3  68195e2372bd4022b17220fc21de9138  android 2014-03-01 00:00:38     NaN   \n",
       "4  9508a8385dc94773baba8aa7d1c2aa75      iOS 2014-03-01 00:00:51     NaN   \n",
       "\n",
       "    latitude        city state   longitude zip_code  \n",
       "0  40.189788       Lyons    CO -105.355280    80540  \n",
       "1  33.844371  Alpharetta    GA  -84.474050    30009  \n",
       "2  42.446396    Westford    MA  -71.459405    01886  \n",
       "3  44.624413     Saranac    NY  -73.809266    12981  \n",
       "4  36.747083       Lampe    MO  -93.458626    65681  "
      ]
     },
     "execution_count": 40,
     "metadata": {},
     "output_type": "execute_result"
    }
   ],
   "source": [
    "df=pd.concat([df.drop('location',axis=1), lc], axis=1)\n",
    "df.head()"
   ]
  },
  {
   "cell_type": "code",
   "execution_count": 41,
   "metadata": {},
   "outputs": [
    {
     "name": "stdout",
     "output_type": "stream",
     "text": [
      "category  -  50000\n",
      "event_name  -  50000\n",
      "gender  -  50000\n",
      "age  -  50000\n",
      "marital_status  -  50000\n",
      "session_id  -  50000\n",
      "device  -  50000\n",
      "client_time  -  50000\n",
      "amount  -  20658\n",
      "latitude  -  50000\n",
      "city  -  50000\n",
      "state  -  50000\n",
      "longitude  -  50000\n",
      "zip_code  -  50000\n"
     ]
    }
   ],
   "source": [
    "for x in df:\n",
    "    print(x,' - ',df[x].value_counts().sum(),end='\\n')"
   ]
  },
  {
   "cell_type": "code",
   "execution_count": 42,
   "metadata": {},
   "outputs": [
    {
     "data": {
      "text/html": [
       "<div>\n",
       "<style scoped>\n",
       "    .dataframe tbody tr th:only-of-type {\n",
       "        vertical-align: middle;\n",
       "    }\n",
       "\n",
       "    .dataframe tbody tr th {\n",
       "        vertical-align: top;\n",
       "    }\n",
       "\n",
       "    .dataframe thead th {\n",
       "        text-align: right;\n",
       "    }\n",
       "</style>\n",
       "<table border=\"1\" class=\"dataframe\">\n",
       "  <thead>\n",
       "    <tr style=\"text-align: right;\">\n",
       "      <th></th>\n",
       "      <th>category</th>\n",
       "      <th>event_name</th>\n",
       "      <th>gender</th>\n",
       "      <th>age</th>\n",
       "      <th>session_id</th>\n",
       "      <th>amount</th>\n",
       "      <th>city</th>\n",
       "      <th>state</th>\n",
       "    </tr>\n",
       "  </thead>\n",
       "  <tbody>\n",
       "    <tr>\n",
       "      <th>0</th>\n",
       "      <td>Sports</td>\n",
       "      <td>View Project</td>\n",
       "      <td>M</td>\n",
       "      <td>18-24</td>\n",
       "      <td>69f62d2ae87640f5a2dde2b2e9229fe6</td>\n",
       "      <td>NaN</td>\n",
       "      <td>Lyons</td>\n",
       "      <td>CO</td>\n",
       "    </tr>\n",
       "    <tr>\n",
       "      <th>1</th>\n",
       "      <td>Technology</td>\n",
       "      <td>View Project</td>\n",
       "      <td>M</td>\n",
       "      <td>18-24</td>\n",
       "      <td>4459d001feb8438eae5f4ec24abcd992</td>\n",
       "      <td>NaN</td>\n",
       "      <td>Alpharetta</td>\n",
       "      <td>GA</td>\n",
       "    </tr>\n",
       "    <tr>\n",
       "      <th>2</th>\n",
       "      <td>Environment</td>\n",
       "      <td>View Project</td>\n",
       "      <td>M</td>\n",
       "      <td>55+</td>\n",
       "      <td>0db9ed700a184d48a9d04806696e3642</td>\n",
       "      <td>NaN</td>\n",
       "      <td>Westford</td>\n",
       "      <td>MA</td>\n",
       "    </tr>\n",
       "    <tr>\n",
       "      <th>3</th>\n",
       "      <td>Technology</td>\n",
       "      <td>View Project</td>\n",
       "      <td>M</td>\n",
       "      <td>18-24</td>\n",
       "      <td>68195e2372bd4022b17220fc21de9138</td>\n",
       "      <td>NaN</td>\n",
       "      <td>Saranac</td>\n",
       "      <td>NY</td>\n",
       "    </tr>\n",
       "    <tr>\n",
       "      <th>4</th>\n",
       "      <td>Sports</td>\n",
       "      <td>View Project</td>\n",
       "      <td>F</td>\n",
       "      <td>25-34</td>\n",
       "      <td>9508a8385dc94773baba8aa7d1c2aa75</td>\n",
       "      <td>NaN</td>\n",
       "      <td>Lampe</td>\n",
       "      <td>MO</td>\n",
       "    </tr>\n",
       "  </tbody>\n",
       "</table>\n",
       "</div>"
      ],
      "text/plain": [
       "      category    event_name gender    age                        session_id  \\\n",
       "0       Sports  View Project      M  18-24  69f62d2ae87640f5a2dde2b2e9229fe6   \n",
       "1   Technology  View Project      M  18-24  4459d001feb8438eae5f4ec24abcd992   \n",
       "2  Environment  View Project      M    55+  0db9ed700a184d48a9d04806696e3642   \n",
       "3   Technology  View Project      M  18-24  68195e2372bd4022b17220fc21de9138   \n",
       "4       Sports  View Project      F  25-34  9508a8385dc94773baba8aa7d1c2aa75   \n",
       "\n",
       "   amount        city state  \n",
       "0     NaN       Lyons    CO  \n",
       "1     NaN  Alpharetta    GA  \n",
       "2     NaN    Westford    MA  \n",
       "3     NaN     Saranac    NY  \n",
       "4     NaN       Lampe    MO  "
      ]
     },
     "execution_count": 42,
     "metadata": {},
     "output_type": "execute_result"
    }
   ],
   "source": [
    "df.drop(['latitude','longitude','client_time','marital_status','device','zip_code'], axis=1, inplace=True)\n",
    "df.head()"
   ]
  },
  {
   "cell_type": "code",
   "execution_count": 43,
   "metadata": {},
   "outputs": [
    {
     "data": {
      "text/plain": [
       "View Project    29342\n",
       "Fund Project    20658\n",
       "Name: event_name, dtype: int64"
      ]
     },
     "execution_count": 43,
     "metadata": {},
     "output_type": "execute_result"
    }
   ],
   "source": [
    "df['event_name'].value_counts()"
   ]
  },
  {
   "cell_type": "code",
   "execution_count": 44,
   "metadata": {},
   "outputs": [],
   "source": [
    "a=df[(df['category']=='Sports') | (df['category']=='Environment')]"
   ]
  },
  {
   "cell_type": "code",
   "execution_count": 45,
   "metadata": {},
   "outputs": [
    {
     "data": {
      "text/plain": [
       "(20079, 8)"
      ]
     },
     "execution_count": 45,
     "metadata": {},
     "output_type": "execute_result"
    }
   ],
   "source": [
    "a.shape"
   ]
  },
  {
   "cell_type": "code",
   "execution_count": 46,
   "metadata": {},
   "outputs": [
    {
     "data": {
      "text/plain": [
       "<matplotlib.axes._subplots.AxesSubplot at 0x25a9c375a30>"
      ]
     },
     "execution_count": 46,
     "metadata": {},
     "output_type": "execute_result"
    },
    {
     "data": {
      "image/png": "[encoded data removed]",
      "text/plain": [
       "<Figure size 432x288 with 1 Axes>"
      ]
     },
     "metadata": {
      "needs_background": "light"
     },
     "output_type": "display_data"
    }
   ],
   "source": [
    "a['event_name'].value_counts().plot.bar()"
   ]
  },
  {
   "cell_type": "code",
   "execution_count": 47,
   "metadata": {},
   "outputs": [
    {
     "data": {
      "text/plain": [
       "7118"
      ]
     },
     "execution_count": 47,
     "metadata": {},
     "output_type": "execute_result"
    }
   ],
   "source": [
    "a['session_id'].nunique()"
   ]
  },
  {
   "cell_type": "code",
   "execution_count": 48,
   "metadata": {},
   "outputs": [
    {
     "data": {
      "text/plain": [
       "5336"
      ]
     },
     "execution_count": 48,
     "metadata": {},
     "output_type": "execute_result"
    }
   ],
   "source": [
    "a[a['event_name']=='Fund Project'].session_id.nunique()"
   ]
  },
  {
   "cell_type": "code",
   "execution_count": 49,
   "metadata": {},
   "outputs": [
    {
     "data": {
      "text/plain": [
       "<matplotlib.axes._subplots.AxesSubplot at 0x25aa7844a90>"
      ]
     },
     "execution_count": 49,
     "metadata": {},
     "output_type": "execute_result"
    },
    {
     "data": {
      "image/png": "[encoded data removed]",
      "text/plain": [
       "<Figure size 432x288 with 1 Axes>"
      ]
     },
     "metadata": {
      "needs_background": "light"
     },
     "output_type": "display_data"
    }
   ],
   "source": [
    "a[a['event_name']=='Fund Project'].groupby('session_id').sum().boxplot()"
   ]
  },
  {
   "cell_type": "code",
   "execution_count": 50,
   "metadata": {},
   "outputs": [
    {
     "data": {
      "text/plain": [
       "(array([ 57.,  98., 222., 405., 558., 663., 625., 516., 303., 273., 231.,\n",
       "        215., 206., 169., 134., 124.,  88.,  63.,  64.,  46.,  47.,  35.,\n",
       "         31.,  32.,  16.,  22.,  18.,  16.,  14.,   7.,   5.,  10.,   8.,\n",
       "          1.,   3.,   2.,   2.,   1.,   0.,   1.,   2.,   1.,   0.,   0.,\n",
       "          1.,   0.,   0.,   0.,   0.,   1.]),\n",
       " array([  1.  ,   7.88,  14.76,  21.64,  28.52,  35.4 ,  42.28,  49.16,\n",
       "         56.04,  62.92,  69.8 ,  76.68,  83.56,  90.44,  97.32, 104.2 ,\n",
       "        111.08, 117.96, 124.84, 131.72, 138.6 , 145.48, 152.36, 159.24,\n",
       "        166.12, 173.  , 179.88, 186.76, 193.64, 200.52, 207.4 , 214.28,\n",
       "        221.16, 228.04, 234.92, 241.8 , 248.68, 255.56, 262.44, 269.32,\n",
       "        276.2 , 283.08, 289.96, 296.84, 303.72, 310.6 , 317.48, 324.36,\n",
       "        331.24, 338.12, 345.  ]),\n",
       " <a list of 50 Patch objects>)"
      ]
     },
     "execution_count": 50,
     "metadata": {},
     "output_type": "execute_result"
    },
    {
     "data": {
      "image/png": "[encoded data removed]",
      "text/plain": [
       "<Figure size 432x288 with 1 Axes>"
      ]
     },
     "metadata": {
      "needs_background": "light"
     },
     "output_type": "display_data"
    }
   ],
   "source": [
    "plt.hist(a[a['event_name']=='Fund Project'].groupby('session_id').sum().amount, bins=50)"
   ]
  },
  {
   "cell_type": "code",
   "execution_count": 51,
   "metadata": {},
   "outputs": [
    {
     "data": {
      "text/html": [
       "<div>\n",
       "<style scoped>\n",
       "    .dataframe tbody tr th:only-of-type {\n",
       "        vertical-align: middle;\n",
       "    }\n",
       "\n",
       "    .dataframe tbody tr th {\n",
       "        vertical-align: top;\n",
       "    }\n",
       "\n",
       "    .dataframe thead th {\n",
       "        text-align: right;\n",
       "    }\n",
       "</style>\n",
       "<table border=\"1\" class=\"dataframe\">\n",
       "  <thead>\n",
       "    <tr style=\"text-align: right;\">\n",
       "      <th></th>\n",
       "      <th></th>\n",
       "      <th>amount</th>\n",
       "    </tr>\n",
       "    <tr>\n",
       "      <th>session_id</th>\n",
       "      <th>gender</th>\n",
       "      <th></th>\n",
       "    </tr>\n",
       "  </thead>\n",
       "  <tbody>\n",
       "    <tr>\n",
       "      <th>000716c0e76a41508feb786d202748e7</th>\n",
       "      <th>M</th>\n",
       "      <td>37.0</td>\n",
       "    </tr>\n",
       "    <tr>\n",
       "      <th>000e13dfa71146e192060542cda8721d</th>\n",
       "      <th>F</th>\n",
       "      <td>29.0</td>\n",
       "    </tr>\n",
       "    <tr>\n",
       "      <th>002a9c51650d47f281518d91717c8d31</th>\n",
       "      <th>F</th>\n",
       "      <td>33.0</td>\n",
       "    </tr>\n",
       "    <tr>\n",
       "      <th>003368a440394561a4e34a09a738e29f</th>\n",
       "      <th>M</th>\n",
       "      <td>48.0</td>\n",
       "    </tr>\n",
       "    <tr>\n",
       "      <th>00365477901b491db0c107b85608ac8a</th>\n",
       "      <th>M</th>\n",
       "      <td>1.0</td>\n",
       "    </tr>\n",
       "    <tr>\n",
       "      <th>...</th>\n",
       "      <th>...</th>\n",
       "      <td>...</td>\n",
       "    </tr>\n",
       "    <tr>\n",
       "      <th>ffb0c38864ee40beb05f094f44a43e32</th>\n",
       "      <th>M</th>\n",
       "      <td>26.0</td>\n",
       "    </tr>\n",
       "    <tr>\n",
       "      <th>ffbc07891604406b952dc99158c25240</th>\n",
       "      <th>F</th>\n",
       "      <td>59.0</td>\n",
       "    </tr>\n",
       "    <tr>\n",
       "      <th>ffc1fdad55a94e9bab68c720621f1f9e</th>\n",
       "      <th>F</th>\n",
       "      <td>41.0</td>\n",
       "    </tr>\n",
       "    <tr>\n",
       "      <th>ffd481352bc54b47a613ec2440b38203</th>\n",
       "      <th>F</th>\n",
       "      <td>16.0</td>\n",
       "    </tr>\n",
       "    <tr>\n",
       "      <th>ffdff9e658e245a1b13540b04ca13f5a</th>\n",
       "      <th>M</th>\n",
       "      <td>43.0</td>\n",
       "    </tr>\n",
       "  </tbody>\n",
       "</table>\n",
       "<p>5694 rows × 1 columns</p>\n",
       "</div>"
      ],
      "text/plain": [
       "                                         amount\n",
       "session_id                       gender        \n",
       "000716c0e76a41508feb786d202748e7 M         37.0\n",
       "000e13dfa71146e192060542cda8721d F         29.0\n",
       "002a9c51650d47f281518d91717c8d31 F         33.0\n",
       "003368a440394561a4e34a09a738e29f M         48.0\n",
       "00365477901b491db0c107b85608ac8a M          1.0\n",
       "...                                         ...\n",
       "ffb0c38864ee40beb05f094f44a43e32 M         26.0\n",
       "ffbc07891604406b952dc99158c25240 F         59.0\n",
       "ffc1fdad55a94e9bab68c720621f1f9e F         41.0\n",
       "ffd481352bc54b47a613ec2440b38203 F         16.0\n",
       "ffdff9e658e245a1b13540b04ca13f5a M         43.0\n",
       "\n",
       "[5694 rows x 1 columns]"
      ]
     },
     "execution_count": 51,
     "metadata": {},
     "output_type": "execute_result"
    }
   ],
   "source": [
    "a[a['event_name']=='Fund Project'].groupby(['session_id','gender']).sum()"
   ]
  },
  {
   "cell_type": "code",
   "execution_count": 52,
   "metadata": {},
   "outputs": [],
   "source": [
    "b=a[a['event_name']=='Fund Project']"
   ]
  },
  {
   "cell_type": "code",
   "execution_count": 53,
   "metadata": {},
   "outputs": [
    {
     "data": {
      "text/plain": [
       "<matplotlib.axes._subplots.AxesSubplot at 0x25aaacf2670>"
      ]
     },
     "execution_count": 53,
     "metadata": {},
     "output_type": "execute_result"
    },
    {
     "data": {
      "image/png": "[encoded data removed]",
      "text/plain": [
       "<Figure size 432x288 with 1 Axes>"
      ]
     },
     "metadata": {
      "needs_background": "light"
     },
     "output_type": "display_data"
    }
   ],
   "source": [
    "b.groupby('gender').mean().plot.bar()"
   ]
  },
  {
   "cell_type": "code",
   "execution_count": 54,
   "metadata": {},
   "outputs": [
    {
     "data": {
      "text/plain": [
       "<matplotlib.axes._subplots.AxesSubplot at 0x25aa6d22490>"
      ]
     },
     "execution_count": 54,
     "metadata": {},
     "output_type": "execute_result"
    },
    {
     "data": {
      "image/png": "[encoded data removed]",
      "text/plain": [
       "<Figure size 432x288 with 1 Axes>"
      ]
     },
     "metadata": {
      "needs_background": "light"
     },
     "output_type": "display_data"
    }
   ],
   "source": [
    "a.groupby(['event_name','gender']).count().category.plot.bar(x='distribution')"
   ]
  },
  {
   "cell_type": "code",
   "execution_count": 55,
   "metadata": {},
   "outputs": [
    {
     "data": {
      "text/plain": [
       "<matplotlib.axes._subplots.AxesSubplot at 0x25aa7058490>"
      ]
     },
     "execution_count": 55,
     "metadata": {},
     "output_type": "execute_result"
    },
    {
     "data": {
      "image/png": "[encoded data removed]",
      "text/plain": [
       "<Figure size 432x288 with 1 Axes>"
      ]
     },
     "metadata": {
      "needs_background": "light"
     },
     "output_type": "display_data"
    }
   ],
   "source": [
    "b.groupby('age').mean().plot.bar()"
   ]
  },
  {
   "cell_type": "code",
   "execution_count": 56,
   "metadata": {},
   "outputs": [
    {
     "data": {
      "text/plain": [
       "<matplotlib.axes._subplots.AxesSubplot at 0x25aa773b700>"
      ]
     },
     "execution_count": 56,
     "metadata": {},
     "output_type": "execute_result"
    },
    {
     "data": {
      "image/png": "[encoded data removed]",
      "text/plain": [
       "<Figure size 432x288 with 1 Axes>"
      ]
     },
     "metadata": {
      "needs_background": "light"
     },
     "output_type": "display_data"
    }
   ],
   "source": [
    "a.groupby(['event_name','age']).count().category.plot.bar()"
   ]
  },
  {
   "cell_type": "code",
   "execution_count": 57,
   "metadata": {},
   "outputs": [
    {
     "data": {
      "text/html": [
       "<div>\n",
       "<style scoped>\n",
       "    .dataframe tbody tr th:only-of-type {\n",
       "        vertical-align: middle;\n",
       "    }\n",
       "\n",
       "    .dataframe tbody tr th {\n",
       "        vertical-align: top;\n",
       "    }\n",
       "\n",
       "    .dataframe thead th {\n",
       "        text-align: right;\n",
       "    }\n",
       "</style>\n",
       "<table border=\"1\" class=\"dataframe\">\n",
       "  <thead>\n",
       "    <tr style=\"text-align: right;\">\n",
       "      <th></th>\n",
       "      <th>amount</th>\n",
       "    </tr>\n",
       "    <tr>\n",
       "      <th>state</th>\n",
       "      <th></th>\n",
       "    </tr>\n",
       "  </thead>\n",
       "  <tbody>\n",
       "    <tr>\n",
       "      <th>AK</th>\n",
       "      <td>139.0</td>\n",
       "    </tr>\n",
       "    <tr>\n",
       "      <th>AL</th>\n",
       "      <td>3352.0</td>\n",
       "    </tr>\n",
       "    <tr>\n",
       "      <th>AR</th>\n",
       "      <td>1424.0</td>\n",
       "    </tr>\n",
       "    <tr>\n",
       "      <th>AZ</th>\n",
       "      <td>2496.0</td>\n",
       "    </tr>\n",
       "    <tr>\n",
       "      <th>CA</th>\n",
       "      <td>16584.0</td>\n",
       "    </tr>\n",
       "    <tr>\n",
       "      <th>CO</th>\n",
       "      <td>36937.0</td>\n",
       "    </tr>\n",
       "    <tr>\n",
       "      <th>CT</th>\n",
       "      <td>1688.0</td>\n",
       "    </tr>\n",
       "    <tr>\n",
       "      <th>DC</th>\n",
       "      <td>119.0</td>\n",
       "    </tr>\n",
       "    <tr>\n",
       "      <th>DE</th>\n",
       "      <td>692.0</td>\n",
       "    </tr>\n",
       "    <tr>\n",
       "      <th>FL</th>\n",
       "      <td>8305.0</td>\n",
       "    </tr>\n",
       "    <tr>\n",
       "      <th>GA</th>\n",
       "      <td>50246.0</td>\n",
       "    </tr>\n",
       "    <tr>\n",
       "      <th>HI</th>\n",
       "      <td>543.0</td>\n",
       "    </tr>\n",
       "    <tr>\n",
       "      <th>IA</th>\n",
       "      <td>1634.0</td>\n",
       "    </tr>\n",
       "    <tr>\n",
       "      <th>ID</th>\n",
       "      <td>801.0</td>\n",
       "    </tr>\n",
       "    <tr>\n",
       "      <th>IL</th>\n",
       "      <td>5858.0</td>\n",
       "    </tr>\n",
       "    <tr>\n",
       "      <th>IN</th>\n",
       "      <td>60243.0</td>\n",
       "    </tr>\n",
       "    <tr>\n",
       "      <th>KS</th>\n",
       "      <td>1024.0</td>\n",
       "    </tr>\n",
       "    <tr>\n",
       "      <th>KY</th>\n",
       "      <td>3413.0</td>\n",
       "    </tr>\n",
       "    <tr>\n",
       "      <th>LA</th>\n",
       "      <td>1855.0</td>\n",
       "    </tr>\n",
       "    <tr>\n",
       "      <th>MA</th>\n",
       "      <td>3690.0</td>\n",
       "    </tr>\n",
       "    <tr>\n",
       "      <th>MD</th>\n",
       "      <td>3073.0</td>\n",
       "    </tr>\n",
       "    <tr>\n",
       "      <th>ME</th>\n",
       "      <td>270.0</td>\n",
       "    </tr>\n",
       "    <tr>\n",
       "      <th>MI</th>\n",
       "      <td>3880.0</td>\n",
       "    </tr>\n",
       "    <tr>\n",
       "      <th>MN</th>\n",
       "      <td>2182.0</td>\n",
       "    </tr>\n",
       "    <tr>\n",
       "      <th>MO</th>\n",
       "      <td>2785.0</td>\n",
       "    </tr>\n",
       "    <tr>\n",
       "      <th>MS</th>\n",
       "      <td>514.0</td>\n",
       "    </tr>\n",
       "    <tr>\n",
       "      <th>MT</th>\n",
       "      <td>646.0</td>\n",
       "    </tr>\n",
       "    <tr>\n",
       "      <th>NC</th>\n",
       "      <td>3666.0</td>\n",
       "    </tr>\n",
       "    <tr>\n",
       "      <th>ND</th>\n",
       "      <td>302.0</td>\n",
       "    </tr>\n",
       "    <tr>\n",
       "      <th>NE</th>\n",
       "      <td>2094.0</td>\n",
       "    </tr>\n",
       "    <tr>\n",
       "      <th>NH</th>\n",
       "      <td>299.0</td>\n",
       "    </tr>\n",
       "    <tr>\n",
       "      <th>NJ</th>\n",
       "      <td>3528.0</td>\n",
       "    </tr>\n",
       "    <tr>\n",
       "      <th>NM</th>\n",
       "      <td>1117.0</td>\n",
       "    </tr>\n",
       "    <tr>\n",
       "      <th>NV</th>\n",
       "      <td>789.0</td>\n",
       "    </tr>\n",
       "    <tr>\n",
       "      <th>NY</th>\n",
       "      <td>9665.0</td>\n",
       "    </tr>\n",
       "    <tr>\n",
       "      <th>OH</th>\n",
       "      <td>5782.0</td>\n",
       "    </tr>\n",
       "    <tr>\n",
       "      <th>OK</th>\n",
       "      <td>2422.0</td>\n",
       "    </tr>\n",
       "    <tr>\n",
       "      <th>OR</th>\n",
       "      <td>45543.0</td>\n",
       "    </tr>\n",
       "    <tr>\n",
       "      <th>PA</th>\n",
       "      <td>5549.0</td>\n",
       "    </tr>\n",
       "    <tr>\n",
       "      <th>RI</th>\n",
       "      <td>756.0</td>\n",
       "    </tr>\n",
       "    <tr>\n",
       "      <th>SC</th>\n",
       "      <td>2234.0</td>\n",
       "    </tr>\n",
       "    <tr>\n",
       "      <th>SD</th>\n",
       "      <td>528.0</td>\n",
       "    </tr>\n",
       "    <tr>\n",
       "      <th>TN</th>\n",
       "      <td>3587.0</td>\n",
       "    </tr>\n",
       "    <tr>\n",
       "      <th>TX</th>\n",
       "      <td>11818.0</td>\n",
       "    </tr>\n",
       "    <tr>\n",
       "      <th>UT</th>\n",
       "      <td>1362.0</td>\n",
       "    </tr>\n",
       "    <tr>\n",
       "      <th>VA</th>\n",
       "      <td>3538.0</td>\n",
       "    </tr>\n",
       "    <tr>\n",
       "      <th>VT</th>\n",
       "      <td>478.0</td>\n",
       "    </tr>\n",
       "    <tr>\n",
       "      <th>WA</th>\n",
       "      <td>3174.0</td>\n",
       "    </tr>\n",
       "    <tr>\n",
       "      <th>WI</th>\n",
       "      <td>2558.0</td>\n",
       "    </tr>\n",
       "    <tr>\n",
       "      <th>WV</th>\n",
       "      <td>532.0</td>\n",
       "    </tr>\n",
       "    <tr>\n",
       "      <th>WY</th>\n",
       "      <td>190.0</td>\n",
       "    </tr>\n",
       "  </tbody>\n",
       "</table>\n",
       "</div>"
      ],
      "text/plain": [
       "        amount\n",
       "state         \n",
       "AK       139.0\n",
       "AL      3352.0\n",
       "AR      1424.0\n",
       "AZ      2496.0\n",
       "CA     16584.0\n",
       "CO     36937.0\n",
       "CT      1688.0\n",
       "DC       119.0\n",
       "DE       692.0\n",
       "FL      8305.0\n",
       "GA     50246.0\n",
       "HI       543.0\n",
       "IA      1634.0\n",
       "ID       801.0\n",
       "IL      5858.0\n",
       "IN     60243.0\n",
       "KS      1024.0\n",
       "KY      3413.0\n",
       "LA      1855.0\n",
       "MA      3690.0\n",
       "MD      3073.0\n",
       "ME       270.0\n",
       "MI      3880.0\n",
       "MN      2182.0\n",
       "MO      2785.0\n",
       "MS       514.0\n",
       "MT       646.0\n",
       "NC      3666.0\n",
       "ND       302.0\n",
       "NE      2094.0\n",
       "NH       299.0\n",
       "NJ      3528.0\n",
       "NM      1117.0\n",
       "NV       789.0\n",
       "NY      9665.0\n",
       "OH      5782.0\n",
       "OK      2422.0\n",
       "OR     45543.0\n",
       "PA      5549.0\n",
       "RI       756.0\n",
       "SC      2234.0\n",
       "SD       528.0\n",
       "TN      3587.0\n",
       "TX     11818.0\n",
       "UT      1362.0\n",
       "VA      3538.0\n",
       "VT       478.0\n",
       "WA      3174.0\n",
       "WI      2558.0\n",
       "WV       532.0\n",
       "WY       190.0"
      ]
     },
     "execution_count": 57,
     "metadata": {},
     "output_type": "execute_result"
    }
   ],
   "source": [
    "b.groupby(['state']).sum()"
   ]
  },
  {
   "cell_type": "code",
   "execution_count": null,
   "metadata": {},
   "outputs": [],
   "source": []
  }
 ],
 "metadata": {
  "kernelspec": {
   "display_name": "Python 3",
   "language": "python",
   "name": "python3"
  },
  "language_info": {
   "codemirror_mode": {
    "name": "ipython",
    "version": 3
   },
   "file_extension": ".py",
   "mimetype": "text/x-python",
   "name": "python",
   "nbconvert_exporter": "python",
   "pygments_lexer": "ipython3",
   "version": "3.8.3"
  }
 },
 "nbformat": 4,
 "nbformat_minor": 4
}
